{
 "cells": [
  {
   "cell_type": "code",
   "execution_count": 1,
   "id": "5d5a0710",
   "metadata": {},
   "outputs": [],
   "source": [
    "import numpy as np\n",
    "import matplotlib.pyplot as plt\n",
    "import pandas as pd\n",
    "import seaborn as sns\n"
   ]
  },
  {
   "cell_type": "code",
   "execution_count": 2,
   "id": "a42caa5d",
   "metadata": {},
   "outputs": [],
   "source": [
    "data = pd.read_csv(\"t_argo_observation_110123.csv\")"
   ]
  },
  {
   "cell_type": "code",
   "execution_count": 3,
   "id": "03ee0f16",
   "metadata": {},
   "outputs": [
    {
     "name": "stdout",
     "output_type": "stream",
     "text": [
      "3855\n"
     ]
    }
   ],
   "source": [
    "# Unique Number of Argo Floasts: \n",
    "\n",
    "unique_argos = len(data['argo_id'].unique())\n",
    "print(unique_argos)"
   ]
  },
  {
   "cell_type": "code",
   "execution_count": 4,
   "id": "ff3da7e7",
   "metadata": {},
   "outputs": [
    {
     "data": {
      "text/html": [
       "<div>\n",
       "<style scoped>\n",
       "    .dataframe tbody tr th:only-of-type {\n",
       "        vertical-align: middle;\n",
       "    }\n",
       "\n",
       "    .dataframe tbody tr th {\n",
       "        vertical-align: top;\n",
       "    }\n",
       "\n",
       "    .dataframe thead th {\n",
       "        text-align: right;\n",
       "    }\n",
       "</style>\n",
       "<table border=\"1\" class=\"dataframe\">\n",
       "  <thead>\n",
       "    <tr style=\"text-align: right;\">\n",
       "      <th></th>\n",
       "      <th>argo_id</th>\n",
       "      <th>observation_time</th>\n",
       "      <th>latitude</th>\n",
       "      <th>longitude</th>\n",
       "    </tr>\n",
       "  </thead>\n",
       "  <tbody>\n",
       "    <tr>\n",
       "      <th>0</th>\n",
       "      <td>53553</td>\n",
       "      <td>1999-10-21 11:46:18</td>\n",
       "      <td>-12.290</td>\n",
       "      <td>106.734</td>\n",
       "    </tr>\n",
       "    <tr>\n",
       "      <th>1</th>\n",
       "      <td>53554</td>\n",
       "      <td>1999-10-22 21:05:46</td>\n",
       "      <td>-12.167</td>\n",
       "      <td>111.887</td>\n",
       "    </tr>\n",
       "    <tr>\n",
       "      <th>2</th>\n",
       "      <td>53555</td>\n",
       "      <td>1999-10-24 01:23:39</td>\n",
       "      <td>-13.216</td>\n",
       "      <td>115.992</td>\n",
       "    </tr>\n",
       "    <tr>\n",
       "      <th>3</th>\n",
       "      <td>53546</td>\n",
       "      <td>1999-10-25 07:24:50</td>\n",
       "      <td>-13.029</td>\n",
       "      <td>119.970</td>\n",
       "    </tr>\n",
       "    <tr>\n",
       "      <th>4</th>\n",
       "      <td>53553</td>\n",
       "      <td>1999-10-31 11:25:08</td>\n",
       "      <td>-12.581</td>\n",
       "      <td>106.347</td>\n",
       "    </tr>\n",
       "  </tbody>\n",
       "</table>\n",
       "</div>"
      ],
      "text/plain": [
       "   argo_id     observation_time  latitude  longitude\n",
       "0    53553  1999-10-21 11:46:18   -12.290    106.734\n",
       "1    53554  1999-10-22 21:05:46   -12.167    111.887\n",
       "2    53555  1999-10-24 01:23:39   -13.216    115.992\n",
       "3    53546  1999-10-25 07:24:50   -13.029    119.970\n",
       "4    53553  1999-10-31 11:25:08   -12.581    106.347"
      ]
     },
     "execution_count": 4,
     "metadata": {},
     "output_type": "execute_result"
    }
   ],
   "source": [
    "# A Snapshot of top 5 rows of the data set\n",
    "\n",
    "data.head()"
   ]
  },
  {
   "cell_type": "code",
   "execution_count": null,
   "id": "b27c1942",
   "metadata": {},
   "outputs": [],
   "source": []
  },
  {
   "cell_type": "code",
   "execution_count": null,
   "id": "cff1094a",
   "metadata": {},
   "outputs": [],
   "source": []
  }
 ],
 "metadata": {
  "kernelspec": {
   "display_name": "Python 3 (ipykernel)",
   "language": "python",
   "name": "python3"
  },
  "language_info": {
   "codemirror_mode": {
    "name": "ipython",
    "version": 3
   },
   "file_extension": ".py",
   "mimetype": "text/x-python",
   "name": "python",
   "nbconvert_exporter": "python",
   "pygments_lexer": "ipython3",
   "version": "3.9.12"
  }
 },
 "nbformat": 4,
 "nbformat_minor": 5
}
