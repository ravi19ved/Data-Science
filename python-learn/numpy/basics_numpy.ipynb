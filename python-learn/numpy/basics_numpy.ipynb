{
 "cells": [
  {
   "attachments": {},
   "cell_type": "markdown",
   "metadata": {},
   "source": [
    "## Practice Numpy "
   ]
  },
  {
   "attachments": {},
   "cell_type": "markdown",
   "metadata": {},
   "source": [
    "Source : https://www.w3schools.com/python/numpy/default.asp"
   ]
  },
  {
   "attachments": {},
   "cell_type": "markdown",
   "metadata": {},
   "source": [
    "# Numpy Python Library"
   ]
  },
  {
   "attachments": {},
   "cell_type": "markdown",
   "metadata": {},
   "source": [
    "<li> Its a Python Library\n",
    "<li> the array object of Numpy is called <b>ndarray</b>\n"
   ]
  },
  {
   "cell_type": "code",
   "execution_count": 374,
   "metadata": {},
   "outputs": [
    {
     "name": "stdout",
     "output_type": "stream",
     "text": [
      "[1 2 3 4 5]\n",
      "<class 'numpy.ndarray'>\n"
     ]
    }
   ],
   "source": [
    "# Import numpy library\n",
    "import numpy as np\n",
    "\n",
    "arr = np.array([1,2,3,4,5])\n",
    "\n",
    "print(arr)\n",
    "print(type(arr))"
   ]
  },
  {
   "cell_type": "code",
   "execution_count": 389,
   "metadata": {},
   "outputs": [
    {
     "name": "stdout",
     "output_type": "stream",
     "text": [
      "1.24.1\n"
     ]
    }
   ],
   "source": [
    "# Numpy version check. \n",
    "\n",
    "import numpy as np\n",
    "\n",
    "print(np.__version__)"
   ]
  },
  {
   "cell_type": "code",
   "execution_count": 376,
   "metadata": {},
   "outputs": [
    {
     "name": "stdout",
     "output_type": "stream",
     "text": [
      "[1 2 3 4 5 6]\n",
      "1.24.1\n",
      "<class 'numpy.ndarray'>\n"
     ]
    }
   ],
   "source": [
    "import numpy as np\n",
    "\n",
    "arr = np.array([1,2,3,4,5,6])\n",
    "print(arr)\n",
    "print(np.__version__)\n",
    "print(type(arr))\n"
   ]
  },
  {
   "cell_type": "code",
   "execution_count": 377,
   "metadata": {},
   "outputs": [
    {
     "name": "stdout",
     "output_type": "stream",
     "text": [
      "[1 2 3 4 5 6] <class 'numpy.ndarray'>\n",
      "[1 2 3 4 5] <class 'numpy.ndarray'>\n",
      "Ravichandra <class 'numpy.ndarray'>\n"
     ]
    }
   ],
   "source": [
    "# Array Creation using Numpy \n",
    "\n",
    "import numpy as np\n",
    "\n",
    "list_1 = [1,2,3,4,5,6]\n",
    "tup_1 = (1,2,3,4,5)\n",
    "str_1 = \"Ravichandra\"\n",
    "\n",
    "arr1 = np.array(list_1)\n",
    "arr2 = np.array(tup_1)\n",
    "arr3 = np.array(str_1)\n",
    "\n",
    "print(arr1, type(arr1))\n",
    "print(arr2,type(arr2))\n",
    "print(arr3,type(arr3))"
   ]
  },
  {
   "cell_type": "code",
   "execution_count": 378,
   "metadata": {},
   "outputs": [
    {
     "name": "stdout",
     "output_type": "stream",
     "text": [
      "[1 2 3 4 5 6]\n",
      "<class 'numpy.ndarray'>\n"
     ]
    }
   ],
   "source": [
    "# 0 dim array\n",
    "\n",
    "import numpy as np\n",
    "\n",
    "arr_0 = np.array(42)\n",
    "\n",
    "print(arr)\n",
    "print(type(arr_0))"
   ]
  },
  {
   "cell_type": "code",
   "execution_count": 379,
   "metadata": {},
   "outputs": [
    {
     "name": "stdout",
     "output_type": "stream",
     "text": [
      "[1 2 3 4 5]\n"
     ]
    }
   ],
   "source": [
    "# 1 dim array\n",
    "import numpy as np\n",
    "\n",
    "arr_1 = np.array([1, 2, 3, 4, 5])\n",
    "\n",
    "print(arr_1)"
   ]
  },
  {
   "cell_type": "code",
   "execution_count": 380,
   "metadata": {},
   "outputs": [
    {
     "name": "stdout",
     "output_type": "stream",
     "text": [
      "[[1 2 3]\n",
      " [4 5 6]]\n"
     ]
    }
   ],
   "source": [
    "# 2 dim array\n",
    "\n",
    "import numpy as np\n",
    "\n",
    "arr_2 = np.array([[1, 2, 3], [4, 5, 6]])\n",
    "\n",
    "print(arr_2)"
   ]
  },
  {
   "cell_type": "code",
   "execution_count": 391,
   "metadata": {},
   "outputs": [
    {
     "name": "stdout",
     "output_type": "stream",
     "text": [
      "[[[1 2 3]\n",
      "  [4 5 6]]\n",
      "\n",
      " [[1 2 3]\n",
      "  [4 5 6]]]\n"
     ]
    }
   ],
   "source": [
    "# 3 dim array\n",
    "\n",
    "import numpy as np\n",
    "\n",
    "arr_3 = np.array([[[1, 2, 3], [4, 5, 6]], [[1, 2, 3], [4, 5, 6]]])\n",
    "\n",
    "print(arr_3)"
   ]
  },
  {
   "cell_type": "code",
   "execution_count": 392,
   "metadata": {},
   "outputs": [
    {
     "name": "stdout",
     "output_type": "stream",
     "text": [
      "0\n",
      "1\n",
      "2\n",
      "3\n"
     ]
    }
   ],
   "source": [
    "# Check number of dimensions using ndim\n",
    "\n",
    "print(arr_0.ndim)\n",
    "print(arr_1.ndim)\n",
    "print(arr_2.ndim)\n",
    "print(arr_3.ndim)"
   ]
  },
  {
   "cell_type": "code",
   "execution_count": 393,
   "metadata": {},
   "outputs": [
    {
     "name": "stdout",
     "output_type": "stream",
     "text": [
      "[[[[[1 2 3 4]]]]]\n",
      "number of dimensions : 5\n"
     ]
    }
   ],
   "source": [
    "# Creating an ndarray with specified dimensions using ndmin = \n",
    "import numpy as np\n",
    "\n",
    "arr_5= np.array([1, 2, 3, 4], ndmin=5)\n",
    "print(arr_5)\n",
    "print('number of dimensions :', arr_5.ndim)"
   ]
  },
  {
   "cell_type": "code",
   "execution_count": 423,
   "metadata": {},
   "outputs": [
    {
     "name": "stdout",
     "output_type": "stream",
     "text": [
      "[2 3 4 5]\n"
     ]
    }
   ],
   "source": [
    "# Numpy array indexing \n",
    "\n",
    "import numpy as np\n",
    "\n",
    "arr = np.array([1,2,3,4,5,6,7,8,9])\n",
    "\n",
    "print(arr[1:5])"
   ]
  },
  {
   "cell_type": "code",
   "execution_count": 425,
   "metadata": {},
   "outputs": [
    {
     "name": "stdout",
     "output_type": "stream",
     "text": [
      "ravi\n",
      "[1 3 5]\n",
      "[1 3 5 7 9]\n"
     ]
    }
   ],
   "source": [
    "import numpy as np\n",
    "\n",
    "arr = np.array((1,2,3,4,5,6,7,8,9))\n",
    "arr_1 = np.array(['ravi','Ravi'])\n",
    "print(arr_1[0])\n",
    "print(arr[:5:2])\n",
    "print(arr[::2])"
   ]
  },
  {
   "cell_type": "code",
   "execution_count": 428,
   "metadata": {},
   "outputs": [
    {
     "name": "stdout",
     "output_type": "stream",
     "text": [
      "[7 8 9]\n",
      "[3 8]\n",
      "[[2 3 4]\n",
      " [7 8 9]]\n",
      "int32\n",
      "4.0\n",
      "int32\n"
     ]
    }
   ],
   "source": [
    "# Accessing Array Elements and Slicing\n",
    "\n",
    "import numpy as np\n",
    "\n",
    "arr = np.array([[1,2,3,4,5],[6,7,8,9,10]])\n",
    "\n",
    "print(arr[1, 1:4])\n",
    "print(arr[0:2, 2])\n",
    "print(arr[:,1:4])\n",
    "\n",
    "print(arr.dtype)\n",
    "\n",
    "arr = np.array(['apple', 'banana', 'cherry'])\n",
    "arr = np.array([1, 2, 3, 4], dtype='d')\n",
    "arr_1 = np.array([-1, -2, 3, 4])\n",
    "print(arr[3])\n",
    "print(arr_1.dtype)"
   ]
  },
  {
   "cell_type": "code",
   "execution_count": 430,
   "metadata": {},
   "outputs": [],
   "source": [
    "# Slicing of Arrays [start:end] or [start:end:step]"
   ]
  },
  {
   "cell_type": "code",
   "execution_count": 431,
   "metadata": {},
   "outputs": [
    {
     "data": {
      "text/plain": [
       "'Q'"
      ]
     },
     "execution_count": 431,
     "metadata": {},
     "output_type": "execute_result"
    }
   ],
   "source": [
    "x = np.dtype('u8')\n",
    "x.char"
   ]
  },
  {
   "attachments": {},
   "cell_type": "markdown",
   "metadata": {},
   "source": [
    "# Numpy Datatypes"
   ]
  },
  {
   "attachments": {},
   "cell_type": "markdown",
   "metadata": {},
   "source": [
    "# Default Data Types in Python and Numpy\n",
    "\n",
    "By default Python have these data types:\n",
    "<li>strings - used to represent text data, the text is given under quote marks. e.g. \"ABCD\"\n",
    "<li>integer - used to represent integer numbers. e.g. -1, -2, -3\n",
    "<li>float - used to represent real numbers. e.g. 1.2, 42.42\n",
    "<li>boolean - used to represent True or False.\n",
    "<li>complex - used to represent complex numbers. e.g. 1.0 + 2.0j, 1.5 + 2.5j\n",
    "\n",
    "# Numpy Data Types:\n",
    "\n",
    "<li>i - integer\n",
    "<li>b - boolean\n",
    "<li>u - unsigned integer\n",
    "<li>f - float\n",
    "<li>c - complex float\n",
    "<li>m - timedelta\n",
    "<li>M - datetime\n",
    "<li>O - object\n",
    "<li>S - string\n",
    "<li>U - unicode string\n",
    "<li>V - fixed chunk of memory for other type ( void )\n"
   ]
  },
  {
   "cell_type": "code",
   "execution_count": 471,
   "metadata": {},
   "outputs": [
    {
     "name": "stdout",
     "output_type": "stream",
     "text": [
      "int32\n",
      "<U6\n"
     ]
    }
   ],
   "source": [
    "# Checking the Data Types of an ndarray\n",
    "\n",
    "import numpy as np\n",
    "\n",
    "arr = np.array([1,2,3,4,5])\n",
    "arr_1 = np.array(['apple', 'banana', 'cherry'])\n",
    "\n",
    "\n",
    "print(arr.dtype)\n",
    "print(arr_1.dtype)  "
   ]
  },
  {
   "cell_type": "code",
   "execution_count": 475,
   "metadata": {},
   "outputs": [
    {
     "name": "stdout",
     "output_type": "stream",
     "text": [
      "[1. 2. 3. 4.]\n",
      "float64\n"
     ]
    }
   ],
   "source": [
    "# Creating Numpy array with defined data type\n",
    "\n",
    "arr = np.array([1,2,3,4], dtype = 'float64')\n",
    "\n",
    "print(arr)\n",
    "print(arr.dtype)"
   ]
  },
  {
   "attachments": {},
   "cell_type": "markdown",
   "metadata": {},
   "source": [
    "# Valid Options for dtype:\n",
    "\n",
    "dtype = ['int','int8','int16','int32','int64','i','i1','i2','i4','i8'] - For int data type\n",
    "\n",
    "dtype = ['float','float16','float32','float64','f','f2','f4','f8'] -- For float data type\n",
    "\n",
    "dtype = ['U1','U2','U3','U4','U5','U6','U7','U8'] - For unicode string data type\n",
    "\n",
    "dtype = ['S1','S2','S3','S4','S5','S6','S7','S8'] - For string data type\n",
    "\n",
    "dtype = ['u1','u2','u4','u8'] - For unsigned int data type\n",
    "\n",
    "For i, u, f, S and U we can define size as well."
   ]
  },
  {
   "cell_type": "code",
   "execution_count": 482,
   "metadata": {},
   "outputs": [
    {
     "name": "stdout",
     "output_type": "stream",
     "text": [
      "[1 2 3]\n"
     ]
    },
    {
     "data": {
      "text/plain": [
       "array([1, 2, 3], dtype=int64)"
      ]
     },
     "execution_count": 482,
     "metadata": {},
     "output_type": "execute_result"
    }
   ],
   "source": [
    "# Converting datatype with astype()\n",
    "\n",
    "import numpy as np\n",
    "\n",
    "arr = np.array([1.1, 2.1, 3.1])\n",
    "\n",
    "newarr = arr.astype('i8')\n",
    "\n",
    "new_arr = arr.astype(int)\n",
    "print(new_arr)\n",
    "\n",
    "newarr\n"
   ]
  },
  {
   "cell_type": "code",
   "execution_count": 483,
   "metadata": {},
   "outputs": [
    {
     "name": "stdout",
     "output_type": "stream",
     "text": [
      "[1 2 3]\n"
     ]
    },
    {
     "data": {
      "text/plain": [
       "array([1, 2, 3], dtype=int64)"
      ]
     },
     "execution_count": 483,
     "metadata": {},
     "output_type": "execute_result"
    }
   ],
   "source": [
    "import numpy as np\n",
    "\n",
    "arr = np.array([1.1, 2.1, 3.1])\n",
    "\n",
    "newarr = arr.astype('i8')\n",
    "\n",
    "new_arr = arr.astype(int)\n",
    "print(new_arr)\n",
    "\n",
    "newarr"
   ]
  },
  {
   "cell_type": "code",
   "execution_count": 477,
   "metadata": {},
   "outputs": [
    {
     "name": "stdout",
     "output_type": "stream",
     "text": [
      "[ True False  True]\n",
      "bool\n"
     ]
    }
   ],
   "source": [
    "import numpy as np\n",
    "\n",
    "arr = np.array([1, 0, 3])\n",
    "\n",
    "newarr = arr.astype(bool)\n",
    "\n",
    "print(newarr)\n",
    "print(newarr.dtype)"
   ]
  },
  {
   "attachments": {},
   "cell_type": "markdown",
   "metadata": {},
   "source": [
    "# Numpy array Copy vs View"
   ]
  },
  {
   "cell_type": "code",
   "execution_count": 478,
   "metadata": {},
   "outputs": [
    {
     "name": "stdout",
     "output_type": "stream",
     "text": [
      "[42  2  3  4  5]\n",
      "[1 2 3 4 5]\n"
     ]
    }
   ],
   "source": [
    "# Numpy array copy example\n",
    "\n",
    "import numpy as np\n",
    "\n",
    "arr = np.array([1,2,3,4,5])\n",
    "\n",
    "x = arr.copy()\n",
    "arr[0] = 42\n",
    "\n",
    "print(arr)\n",
    "print(x)\n"
   ]
  },
  {
   "cell_type": "code",
   "execution_count": 484,
   "metadata": {},
   "outputs": [
    {
     "name": "stdout",
     "output_type": "stream",
     "text": [
      "[1 2 3 4 5]\n",
      "[42  2  3  4  5]\n",
      "[42  2  3  4  5]\n",
      "[15  2  3  4  5]\n",
      "[15  2  3  4  5]\n"
     ]
    }
   ],
   "source": [
    "# Numpy array view example\n",
    "\n",
    "import numpy as np\n",
    "\n",
    "arr = np.array([1,2,3,4,5])\n",
    "\n",
    "x1 = arr.view()\n",
    "\n",
    "print(arr)\n",
    "\n",
    "arr[0] = 42\n",
    "\n",
    "print(arr)\n",
    "print(x1)\n",
    "\n",
    "x1[0] = 15\n",
    "\n",
    "print(arr)\n",
    "print(x1)"
   ]
  },
  {
   "attachments": {},
   "cell_type": "markdown",
   "metadata": {},
   "source": [
    "# Check if Numpy array owns its data"
   ]
  },
  {
   "cell_type": "code",
   "execution_count": 486,
   "metadata": {},
   "outputs": [
    {
     "name": "stdout",
     "output_type": "stream",
     "text": [
      "None\n",
      "[1 2 3 4 5]\n"
     ]
    }
   ],
   "source": [
    "import numpy as np\n",
    "\n",
    "l = [1, 2, 3, 4, 5]\n",
    "arr = np.array(l)\n",
    "\n",
    "x = arr.copy()\n",
    "y = arr.view()\n",
    "\n",
    "print(x.base)\n",
    "print(y.base)"
   ]
  },
  {
   "attachments": {},
   "cell_type": "markdown",
   "metadata": {},
   "source": [
    "# Numpy Array Shape\n",
    "\n"
   ]
  },
  {
   "attachments": {},
   "cell_type": "markdown",
   "metadata": {},
   "source": [
    "The shape of an array is the number of elements in each dimension.\n",
    "\n"
   ]
  },
  {
   "cell_type": "code",
   "execution_count": 522,
   "metadata": {},
   "outputs": [
    {
     "name": "stdout",
     "output_type": "stream",
     "text": [
      "(2, 3)\n"
     ]
    }
   ],
   "source": [
    "# Shape gives number of elements of array in each dimension\n",
    "\n",
    "import numpy as np\n",
    "\n",
    "arr = np.array([[1, 2, 3, 4], [5, 6, 7, 8]])\n",
    "arr = np.array([[1,2,3],[1,2,3]])\n",
    "\n",
    "print(arr.shape)"
   ]
  },
  {
   "cell_type": "code",
   "execution_count": 500,
   "metadata": {},
   "outputs": [
    {
     "name": "stdout",
     "output_type": "stream",
     "text": [
      "[[[[[1 2 3 4]]]]]\n",
      "shape of array:  (1, 1, 1, 1, 4)\n"
     ]
    }
   ],
   "source": [
    "import numpy as np\n",
    "\n",
    "arr = np.array([1,2,3,4], ndmin = 5)\n",
    "\n",
    "print(arr)\n",
    "print('shape of array: ', arr.shape)\n",
    "\n"
   ]
  },
  {
   "cell_type": "code",
   "execution_count": 523,
   "metadata": {},
   "outputs": [
    {
     "name": "stdout",
     "output_type": "stream",
     "text": [
      "[[[ 1  2]\n",
      "  [ 3  4]\n",
      "  [ 5  6]]\n",
      "\n",
      " [[ 7  8]\n",
      "  [ 9 10]\n",
      "  [11 12]]]\n"
     ]
    }
   ],
   "source": [
    "import numpy as np\n",
    "\n",
    "arr = np.array([1,2,3,4,5,6,7,8,9,10,11,12])\n",
    "\n",
    "newarr = arr.reshape(2,3,2)\n",
    "\n",
    "print(newarr)"
   ]
  },
  {
   "cell_type": "code",
   "execution_count": 511,
   "metadata": {},
   "outputs": [
    {
     "name": "stdout",
     "output_type": "stream",
     "text": [
      "[[ 1  2  3]\n",
      " [ 4  5  6]\n",
      " [ 7  8  9]\n",
      " [10 11 12]]\n",
      "[[ 1  2  3  4]\n",
      " [ 5  6  7  8]\n",
      " [ 9 10 11 12]]\n"
     ]
    }
   ],
   "source": [
    "import numpy as np\n",
    "\n",
    "arr = np.array([1,2,3,4,5,6,7,8,9,10,11,12])\n",
    "\n",
    "newarr = arr.reshape(4,3)\n",
    "newarr_1 = arr.reshape(3,4)\n",
    "\n",
    "print(newarr)\n",
    "print(newarr_1)"
   ]
  },
  {
   "cell_type": "code",
   "execution_count": 524,
   "metadata": {},
   "outputs": [
    {
     "name": "stdout",
     "output_type": "stream",
     "text": [
      "[1 2 3 4 5 6 7 8]\n"
     ]
    }
   ],
   "source": [
    "# Reshape gives you a view of the array.\n",
    "\n",
    "import numpy as np\n",
    "\n",
    "arr = np.array([1, 2, 3, 4, 5, 6, 7, 8])\n",
    "\n",
    "print(arr.reshape(2,4).base)"
   ]
  },
  {
   "cell_type": "code",
   "execution_count": 530,
   "metadata": {},
   "outputs": [
    {
     "name": "stdout",
     "output_type": "stream",
     "text": [
      "(2, 2, 2)\n",
      "[[[1 2]\n",
      "  [3 4]]\n",
      "\n",
      " [[5 6]\n",
      "  [7 8]]]\n"
     ]
    }
   ],
   "source": [
    "# One of the dimensions can be unknown for reshape method\n",
    "# You are allowed to have one \"unknown\" dimension.\n",
    "# Meaning that you do not have to specify an exact number for one of the dimensions in the reshape method.\n",
    "# Pass -1 as the value, and NumPy will calculate this number for you.\n",
    "\n",
    "import numpy as np\n",
    "\n",
    "arr = np.array([1, 2, 3, 4, 5, 6, 7, 8])\n",
    "\n",
    "newarr = arr.reshape(2,2,-1)\n",
    "\n",
    "print(newarr.shape)\n",
    "\n",
    "print(newarr)"
   ]
  },
  {
   "cell_type": "code",
   "execution_count": 531,
   "metadata": {},
   "outputs": [
    {
     "name": "stdout",
     "output_type": "stream",
     "text": [
      "[1 2 3 4 5 6]\n"
     ]
    }
   ],
   "source": [
    "# Flattening array means converting a multidimensional array into a 1D array.\n",
    "# We can use reshape(-1) to do this.\n",
    "\n",
    "import numpy as np\n",
    "\n",
    "arr = np.array([[1, 2, 3], [4, 5, 6]])\n",
    "\n",
    "newarr = arr.reshape(-1)\n",
    "\n",
    "print(newarr)"
   ]
  },
  {
   "attachments": {},
   "cell_type": "markdown",
   "metadata": {},
   "source": [
    "# Iterating over ndarray"
   ]
  },
  {
   "cell_type": "code",
   "execution_count": 532,
   "metadata": {},
   "outputs": [
    {
     "name": "stdout",
     "output_type": "stream",
     "text": [
      "1\n",
      "2\n",
      "3\n"
     ]
    }
   ],
   "source": [
    "import numpy as np\n",
    "\n",
    "arr = np.array([1,2,3])\n",
    "\n",
    "for x in arr:\n",
    "    print(x)"
   ]
  },
  {
   "cell_type": "code",
   "execution_count": null,
   "metadata": {},
   "outputs": [],
   "source": [
    "import numpy as np\n",
    "\n",
    "arr = np.array([[1, 2, 3], [4, 5, 6]])\n",
    "\n",
    "for x in arr:\n",
    "    print(x)\n",
    "    \n",
    "for x in arr:\n",
    "    for y in x:\n",
    "        print(y)\n"
   ]
  },
  {
   "cell_type": "code",
   "execution_count": 538,
   "metadata": {},
   "outputs": [
    {
     "name": "stdout",
     "output_type": "stream",
     "text": [
      "[[1 2 3]\n",
      " [4 5 6]]\n",
      "[[ 7  8  9]\n",
      " [10 11 12]]\n"
     ]
    }
   ],
   "source": [
    "import numpy as np\n",
    "\n",
    "arr = np.array([[[1, 2, 3], [4, 5, 6]], [[7, 8, 9], [10, 11, 12]]])\n",
    "\n",
    "for x in arr:\n",
    "    print(x)"
   ]
  },
  {
   "cell_type": "code",
   "execution_count": null,
   "metadata": {},
   "outputs": [],
   "source": [
    "import numpy as np\n",
    "\n",
    "arr = np.array([[[1, 2, 3], [4, 5, 6]], [[7, 8, 9], [10, 11, 12]]])\n",
    "\n",
    "for x in arr:\n",
    "  for y in x:\n",
    "    for z in y:\n",
    "      print(z)"
   ]
  },
  {
   "attachments": {},
   "cell_type": "markdown",
   "metadata": {},
   "source": [
    "# Using nditer method for Iterating "
   ]
  },
  {
   "cell_type": "code",
   "execution_count": null,
   "metadata": {},
   "outputs": [],
   "source": [
    "import numpy as np\n",
    "\n",
    "arr = np.array([[[1, 2], [3, 4]], [[5, 6], [7, 8]]])\n",
    "\n",
    "for x in np.nditer(arr):\n",
    "  print(x)"
   ]
  },
  {
   "cell_type": "code",
   "execution_count": 555,
   "metadata": {},
   "outputs": [
    {
     "name": "stdout",
     "output_type": "stream",
     "text": [
      "b'1'\n",
      "b'2'\n",
      "b'3'\n"
     ]
    }
   ],
   "source": [
    "import numpy as np\n",
    "\n",
    "arr = np.array([1, 2, 3])\n",
    "\n",
    "for x in np.nditer(arr, flags=['buffered'], op_dtypes=['S']):\n",
    "  print(x)"
   ]
  },
  {
   "cell_type": "code",
   "execution_count": null,
   "metadata": {},
   "outputs": [],
   "source": [
    "# Iterating With Different Step Size\n",
    "\n",
    "import numpy as np\n",
    "\n",
    "arr = np.array([[1, 2, 3, 4], [5, 6, 7, 8]])\n",
    "\n",
    "for x in np.nditer(arr[:, ::2]):\n",
    "  print(x)"
   ]
  },
  {
   "cell_type": "code",
   "execution_count": null,
   "metadata": {},
   "outputs": [],
   "source": [
    "# Enumerated Iteration Using ndenumerate()\n",
    "\n",
    "import numpy as np\n",
    "\n",
    "arr = np.array([1, 2, 3])\n",
    "\n",
    "for idx, x in np.ndenumerate(arr):\n",
    "  print(idx, x)"
   ]
  },
  {
   "cell_type": "code",
   "execution_count": 566,
   "metadata": {},
   "outputs": [
    {
     "name": "stdout",
     "output_type": "stream",
     "text": [
      "(0, 0) 1\n",
      "(0, 1) 2\n",
      "(0, 2) 3\n",
      "(0, 3) 4\n",
      "(1, 0) 5\n",
      "(1, 1) 6\n",
      "(1, 2) 7\n",
      "(1, 3) 8\n"
     ]
    }
   ],
   "source": [
    "import numpy as np\n",
    "\n",
    "arr = np.array([[1, 2, 3, 4], [5, 6, 7, 8]])\n",
    "\n",
    "for idx, x in np.ndenumerate(arr):\n",
    "  print(idx, x)"
   ]
  },
  {
   "attachments": {},
   "cell_type": "markdown",
   "metadata": {},
   "source": [
    "# NumPy Joining Array"
   ]
  }
 ],
 "metadata": {
  "kernelspec": {
   "display_name": "Python 3",
   "language": "python",
   "name": "python3"
  },
  "language_info": {
   "codemirror_mode": {
    "name": "ipython",
    "version": 3
   },
   "file_extension": ".py",
   "mimetype": "text/x-python",
   "name": "python",
   "nbconvert_exporter": "python",
   "pygments_lexer": "ipython3",
   "version": "3.10.7"
  },
  "orig_nbformat": 4
 },
 "nbformat": 4,
 "nbformat_minor": 2
}
